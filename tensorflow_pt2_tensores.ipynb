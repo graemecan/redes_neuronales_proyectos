{
 "cells": [
  {
   "cell_type": "markdown",
   "id": "ec211c00",
   "metadata": {},
   "source": [
    "# TensorFlow Parte II - Tensores"
   ]
  },
  {
   "cell_type": "code",
   "execution_count": 2,
   "id": "3e58a927",
   "metadata": {},
   "outputs": [
    {
     "name": "stderr",
     "output_type": "stream",
     "text": [
      "2023-09-06 22:31:45.233168: I tensorflow/core/platform/cpu_feature_guard.cc:182] This TensorFlow binary is optimized to use available CPU instructions in performance-critical operations.\n",
      "To enable the following instructions: AVX2 FMA, in other operations, rebuild TensorFlow with the appropriate compiler flags.\n",
      "2023-09-06 22:31:53.469007: W tensorflow/compiler/tf2tensorrt/utils/py_utils.cc:38] TF-TRT Warning: Could not find TensorRT\n"
     ]
    }
   ],
   "source": [
    "import tensorflow as tf\n",
    "import numpy as np"
   ]
  },
  {
   "cell_type": "markdown",
   "id": "b2791ce9",
   "metadata": {},
   "source": [
    "Tensores en TensorFlow son arreglos multidimensionales con un tipo uniforme (`dtype`). Una [lista de dtypes](https://www.tensorflow.org/api_docs/python/tf/dtypes/DType).\n",
    "\n",
    "Tensores en TensorFlow son tipos **inmutables** (no se puede cambiar sus valores después de su creación). Si queremos cambiar valores usamos `Variable` (en el próximo Notebook)."
   ]
  },
  {
   "cell_type": "markdown",
   "id": "2c94d2c6",
   "metadata": {},
   "source": [
    "## Tensores básicos\n",
    "\n"
   ]
  },
  {
   "cell_type": "markdown",
   "id": "6f677eae",
   "metadata": {},
   "source": [
    "Un escalar es un tensor de rango 0."
   ]
  },
  {
   "cell_type": "code",
   "execution_count": 2,
   "id": "e6d22440",
   "metadata": {},
   "outputs": [
    {
     "name": "stdout",
     "output_type": "stream",
     "text": [
      "tf.Tensor(4, shape=(), dtype=int32)\n"
     ]
    },
    {
     "name": "stderr",
     "output_type": "stream",
     "text": [
      "2023-09-06 14:05:39.199261: I tensorflow/compiler/xla/stream_executor/cuda/cuda_gpu_executor.cc:995] successful NUMA node read from SysFS had negative value (-1), but there must be at least one NUMA node, so returning NUMA node zero. See more at https://github.com/torvalds/linux/blob/v6.0/Documentation/ABI/testing/sysfs-bus-pci#L344-L355\n",
      "2023-09-06 14:05:39.509328: W tensorflow/core/common_runtime/gpu/gpu_device.cc:1960] Cannot dlopen some GPU libraries. Please make sure the missing libraries mentioned above are installed properly if you would like to use GPU. Follow the guide at https://www.tensorflow.org/install/gpu for how to download and setup the required libraries for your platform.\n",
      "Skipping registering GPU devices...\n"
     ]
    }
   ],
   "source": [
    "rango_0_tensor = tf.constant(4)\n",
    "print(rango_0_tensor)"
   ]
  },
  {
   "cell_type": "markdown",
   "id": "bd741dd0",
   "metadata": {},
   "source": [
    "Un vector es un tensor de rango 1:"
   ]
  },
  {
   "cell_type": "code",
   "execution_count": 3,
   "id": "1a48e328",
   "metadata": {},
   "outputs": [
    {
     "name": "stdout",
     "output_type": "stream",
     "text": [
      "tf.Tensor([2. 3. 4.], shape=(3,), dtype=float32)\n"
     ]
    }
   ],
   "source": [
    "rango_1_tensor = tf.constant([2.0, 3.0, 4.0])\n",
    "print(rango_1_tensor)"
   ]
  },
  {
   "cell_type": "markdown",
   "id": "13d5e6ee",
   "metadata": {},
   "source": [
    "Una matriz es un tensor de rango 2."
   ]
  },
  {
   "cell_type": "code",
   "execution_count": 5,
   "id": "fbbb7664",
   "metadata": {},
   "outputs": [
    {
     "name": "stdout",
     "output_type": "stream",
     "text": [
      "tf.Tensor(\n",
      "[[1. 2.]\n",
      " [3. 4.]\n",
      " [5. 6.]], shape=(3, 2), dtype=float16)\n"
     ]
    }
   ],
   "source": [
    "rango_2_tensor = tf.constant([[1, 2], \n",
    "                              [3, 4], \n",
    "                              [5, 6]], dtype=tf.float16) #Float 16 bits!\n",
    "print(rango_2_tensor)"
   ]
  },
  {
   "cell_type": "markdown",
   "id": "0f0a9608",
   "metadata": {},
   "source": [
    "Pueden ver que el tipo de datos del tensor arriba es de $16$ bits, menos que un `float` normal ($32$ bits). Este es porque la precisión numérica no es tan importante, normalemente, en machine learning."
   ]
  },
  {
   "cell_type": "markdown",
   "id": "0408d29c",
   "metadata": {},
   "source": [
    "También podemos crear tensores con más ejes, por ejemplo $3$:"
   ]
  },
  {
   "cell_type": "code",
   "execution_count": 6,
   "id": "2bc070ef",
   "metadata": {},
   "outputs": [],
   "source": [
    "rango_3_tensor = tf.constant([\n",
    "    [[0,1,2,3,4],\n",
    "     [5,6,7,8,9]],\n",
    "    [[10,11,12,13,14],\n",
    "     [15,16,17,18,19]],\n",
    "    [[20,21,22,23,24],\n",
    "     [25,26,27,28,29]],\n",
    "])"
   ]
  },
  {
   "cell_type": "code",
   "execution_count": 7,
   "id": "90c97e0c",
   "metadata": {},
   "outputs": [
    {
     "name": "stdout",
     "output_type": "stream",
     "text": [
      "tf.Tensor(\n",
      "[[[ 0  1  2  3  4]\n",
      "  [ 5  6  7  8  9]]\n",
      "\n",
      " [[10 11 12 13 14]\n",
      "  [15 16 17 18 19]]\n",
      "\n",
      " [[20 21 22 23 24]\n",
      "  [25 26 27 28 29]]], shape=(3, 2, 5), dtype=int32)\n"
     ]
    }
   ],
   "source": [
    "print(rango_3_tensor)"
   ]
  },
  {
   "cell_type": "markdown",
   "id": "ace3a46b",
   "metadata": {},
   "source": [
    "| NumPy | Front | Block |\n",
    "| ----- | ----- | ----- |\n",
    "|![](3-axis_numpy.png)|![](3-axis_front.png)|![](3-axis_block.png)|"
   ]
  },
  {
   "cell_type": "code",
   "execution_count": 8,
   "id": "653a8268",
   "metadata": {},
   "outputs": [
    {
     "data": {
      "text/plain": [
       "array([[1., 2.],\n",
       "       [3., 4.],\n",
       "       [5., 6.]], dtype=float16)"
      ]
     },
     "execution_count": 8,
     "metadata": {},
     "output_type": "execute_result"
    }
   ],
   "source": [
    "np.array(rango_2_tensor)"
   ]
  },
  {
   "cell_type": "code",
   "execution_count": 9,
   "id": "15c40c75",
   "metadata": {},
   "outputs": [
    {
     "data": {
      "text/plain": [
       "array([[1., 2.],\n",
       "       [3., 4.],\n",
       "       [5., 6.]], dtype=float16)"
      ]
     },
     "execution_count": 9,
     "metadata": {},
     "output_type": "execute_result"
    }
   ],
   "source": [
    "rango_2_tensor.numpy()"
   ]
  },
  {
   "cell_type": "markdown",
   "id": "575d85a8",
   "metadata": {},
   "source": [
    "Tensores pueden incluir `float`, `int`, `complex`, `string`..."
   ]
  },
  {
   "cell_type": "markdown",
   "id": "cfc0f095",
   "metadata": {},
   "source": [
    "Operaciones matemáticas con tensores:"
   ]
  },
  {
   "cell_type": "code",
   "execution_count": 10,
   "id": "b404dc21",
   "metadata": {},
   "outputs": [],
   "source": [
    "a = tf.constant([[1, 2],\n",
    "                 [3, 4]])\n",
    "\n",
    "b = tf.constant([[1, 1],\n",
    "                 [1, 1]])"
   ]
  },
  {
   "cell_type": "code",
   "execution_count": 11,
   "id": "dbf02120",
   "metadata": {},
   "outputs": [
    {
     "name": "stdout",
     "output_type": "stream",
     "text": [
      "tf.Tensor(\n",
      "[[2 3]\n",
      " [4 5]], shape=(2, 2), dtype=int32)\n"
     ]
    }
   ],
   "source": [
    "print(tf.add(a, b))"
   ]
  },
  {
   "cell_type": "code",
   "execution_count": 13,
   "id": "ea4f887b",
   "metadata": {},
   "outputs": [
    {
     "name": "stdout",
     "output_type": "stream",
     "text": [
      "tf.Tensor(\n",
      "[[1 2]\n",
      " [3 4]], shape=(2, 2), dtype=int32)\n"
     ]
    }
   ],
   "source": [
    "print(tf.multiply(a, b))"
   ]
  },
  {
   "cell_type": "code",
   "execution_count": 14,
   "id": "b03e113b",
   "metadata": {},
   "outputs": [
    {
     "name": "stdout",
     "output_type": "stream",
     "text": [
      "tf.Tensor(\n",
      "[[3 3]\n",
      " [7 7]], shape=(2, 2), dtype=int32)\n"
     ]
    }
   ],
   "source": [
    "print(tf.matmul(a, b))"
   ]
  },
  {
   "cell_type": "code",
   "execution_count": 15,
   "id": "b07eecd5",
   "metadata": {},
   "outputs": [
    {
     "name": "stdout",
     "output_type": "stream",
     "text": [
      "tf.Tensor(\n",
      "[[2 3]\n",
      " [4 5]], shape=(2, 2), dtype=int32)\n"
     ]
    }
   ],
   "source": [
    "print(a + b)"
   ]
  },
  {
   "cell_type": "code",
   "execution_count": 16,
   "id": "4f617ec5",
   "metadata": {},
   "outputs": [
    {
     "name": "stdout",
     "output_type": "stream",
     "text": [
      "tf.Tensor(\n",
      "[[1 2]\n",
      " [3 4]], shape=(2, 2), dtype=int32)\n"
     ]
    }
   ],
   "source": [
    "print(a * b)"
   ]
  },
  {
   "cell_type": "code",
   "execution_count": 17,
   "id": "7c54142a",
   "metadata": {},
   "outputs": [
    {
     "name": "stdout",
     "output_type": "stream",
     "text": [
      "tf.Tensor(\n",
      "[[3 3]\n",
      " [7 7]], shape=(2, 2), dtype=int32)\n"
     ]
    }
   ],
   "source": [
    "print(a @ b)"
   ]
  },
  {
   "cell_type": "code",
   "execution_count": 18,
   "id": "9a8d4cff",
   "metadata": {},
   "outputs": [],
   "source": [
    "c = tf.constant([[4.0, 5.0], [10.0, 1.0]])"
   ]
  },
  {
   "cell_type": "code",
   "execution_count": 19,
   "id": "36d049d2",
   "metadata": {},
   "outputs": [
    {
     "name": "stdout",
     "output_type": "stream",
     "text": [
      "tf.Tensor(10.0, shape=(), dtype=float32)\n"
     ]
    }
   ],
   "source": [
    "print(tf.reduce_max(c))"
   ]
  },
  {
   "cell_type": "code",
   "execution_count": 20,
   "id": "3271d8e4",
   "metadata": {},
   "outputs": [
    {
     "name": "stdout",
     "output_type": "stream",
     "text": [
      "tf.Tensor([1 0], shape=(2,), dtype=int64)\n"
     ]
    }
   ],
   "source": [
    "print(tf.math.argmax(c))"
   ]
  },
  {
   "cell_type": "markdown",
   "id": "bd5eafb4",
   "metadata": {},
   "source": [
    "Función de [softmax](https://en.wikipedia.org/wiki/Softmax_function):"
   ]
  },
  {
   "cell_type": "code",
   "execution_count": 21,
   "id": "e8526ccb",
   "metadata": {},
   "outputs": [
    {
     "name": "stdout",
     "output_type": "stream",
     "text": [
      "tf.Tensor(\n",
      "[[2.6894143e-01 7.3105860e-01]\n",
      " [9.9987662e-01 1.2339458e-04]], shape=(2, 2), dtype=float32)\n"
     ]
    }
   ],
   "source": [
    "print(tf.nn.softmax(c))"
   ]
  },
  {
   "cell_type": "markdown",
   "id": "5ada7ed4",
   "metadata": {},
   "source": [
    "Cuando TensorFlow espera un tensor, típicamente funciona con cualquier objeto que se puede convertir a un tensor con `tf.convert_to_tensor`:"
   ]
  },
  {
   "cell_type": "code",
   "execution_count": 23,
   "id": "ab5c9675",
   "metadata": {},
   "outputs": [
    {
     "data": {
      "text/plain": [
       "<tf.Tensor: shape=(3,), dtype=int32, numpy=array([1, 2, 3], dtype=int32)>"
      ]
     },
     "execution_count": 23,
     "metadata": {},
     "output_type": "execute_result"
    }
   ],
   "source": [
    "tf.convert_to_tensor([1,2,3])"
   ]
  },
  {
   "cell_type": "code",
   "execution_count": 24,
   "id": "49ec016f",
   "metadata": {},
   "outputs": [
    {
     "data": {
      "text/plain": [
       "<tf.Tensor: shape=(), dtype=int32, numpy=3>"
      ]
     },
     "execution_count": 24,
     "metadata": {},
     "output_type": "execute_result"
    }
   ],
   "source": [
    "tf.reduce_max([1,2,3])"
   ]
  },
  {
   "cell_type": "code",
   "execution_count": 25,
   "id": "ac82a75d",
   "metadata": {},
   "outputs": [
    {
     "data": {
      "text/plain": [
       "<tf.Tensor: shape=(), dtype=int64, numpy=3>"
      ]
     },
     "execution_count": 25,
     "metadata": {},
     "output_type": "execute_result"
    }
   ],
   "source": [
    "tf.reduce_max(np.array([1,2,3]))"
   ]
  },
  {
   "cell_type": "markdown",
   "id": "73644da1",
   "metadata": {},
   "source": [
    "* **Shape** (forma): número de elementos en cada eje\n",
    "* **Rank** (rango): número de ejes\n",
    "* **Axis** o **Dimension**: una dimensión partícular de un tensor\n",
    "* **Size**: tamaño, número total de elementos"
   ]
  },
  {
   "cell_type": "markdown",
   "id": "e03762f3",
   "metadata": {},
   "source": [
    "Tensores y objetos de la clase `tf.TensorShape` tienen propiedades convenientes para obtener esta información:"
   ]
  },
  {
   "cell_type": "code",
   "execution_count": 26,
   "id": "45bddc59",
   "metadata": {},
   "outputs": [],
   "source": [
    "rango_4_tensor = tf.zeros([3, 2, 4, 5])"
   ]
  },
  {
   "cell_type": "markdown",
   "id": "5d6030ef",
   "metadata": {},
   "source": [
    "| Shape | Block |\n",
    "| ----- | ----- |\n",
    "|![](shape.png)|![](4-axis_block.png)|"
   ]
  },
  {
   "cell_type": "code",
   "execution_count": 28,
   "id": "df2e6920",
   "metadata": {},
   "outputs": [
    {
     "name": "stdout",
     "output_type": "stream",
     "text": [
      "Tipo de cada elemento: <dtype: 'float32'>\n"
     ]
    }
   ],
   "source": [
    "print(\"Tipo de cada elemento:\", rango_4_tensor.dtype)"
   ]
  },
  {
   "cell_type": "code",
   "execution_count": 29,
   "id": "d4cd328e",
   "metadata": {},
   "outputs": [
    {
     "name": "stdout",
     "output_type": "stream",
     "text": [
      "Número de ejes: 4\n"
     ]
    }
   ],
   "source": [
    "print(\"Número de ejes:\", rango_4_tensor.ndim)"
   ]
  },
  {
   "cell_type": "code",
   "execution_count": 30,
   "id": "c2d444d1",
   "metadata": {},
   "outputs": [
    {
     "name": "stdout",
     "output_type": "stream",
     "text": [
      "Forma del tensor: (3, 2, 4, 5)\n"
     ]
    }
   ],
   "source": [
    "print(\"Forma del tensor:\", rango_4_tensor.shape)"
   ]
  },
  {
   "cell_type": "code",
   "execution_count": 32,
   "id": "7f2c3680",
   "metadata": {},
   "outputs": [
    {
     "name": "stdout",
     "output_type": "stream",
     "text": [
      "No. de elementos en eje 0: 3\n"
     ]
    }
   ],
   "source": [
    "print(\"No. de elementos en eje 0:\", rango_4_tensor.shape[0])"
   ]
  },
  {
   "cell_type": "code",
   "execution_count": 33,
   "id": "1009e1a3",
   "metadata": {},
   "outputs": [
    {
     "name": "stdout",
     "output_type": "stream",
     "text": [
      "No. de elementos en último eje: 5\n"
     ]
    }
   ],
   "source": [
    "print(\"No. de elementos en último eje:\", rango_4_tensor.shape[-1])"
   ]
  },
  {
   "cell_type": "code",
   "execution_count": 35,
   "id": "31a7d10b",
   "metadata": {},
   "outputs": [
    {
     "name": "stdout",
     "output_type": "stream",
     "text": [
      "No. total de elementos (3*2*4*5): 120\n"
     ]
    }
   ],
   "source": [
    "print(\"No. total de elementos (3*2*4*5):\", tf.size(rango_4_tensor).numpy())"
   ]
  },
  {
   "cell_type": "markdown",
   "id": "6fea6885",
   "metadata": {},
   "source": [
    "Los atributos `Tensor.ndim` y `Tensor.shape` no son tensores. Si necesitamos un `Tensor` usamos `tf.rank` y `tf.shape`."
   ]
  },
  {
   "cell_type": "code",
   "execution_count": 37,
   "id": "cf520c90",
   "metadata": {},
   "outputs": [
    {
     "data": {
      "text/plain": [
       "4"
      ]
     },
     "execution_count": 37,
     "metadata": {},
     "output_type": "execute_result"
    }
   ],
   "source": [
    "rango_4_tensor.ndim"
   ]
  },
  {
   "cell_type": "code",
   "execution_count": 38,
   "id": "539fdb25",
   "metadata": {},
   "outputs": [
    {
     "data": {
      "text/plain": [
       "<tf.Tensor: shape=(), dtype=int32, numpy=4>"
      ]
     },
     "execution_count": 38,
     "metadata": {},
     "output_type": "execute_result"
    }
   ],
   "source": [
    "tf.rank(rango_4_tensor)"
   ]
  },
  {
   "cell_type": "code",
   "execution_count": 40,
   "id": "d05f7d6b",
   "metadata": {},
   "outputs": [
    {
     "data": {
      "text/plain": [
       "TensorShape([3, 2, 4, 5])"
      ]
     },
     "execution_count": 40,
     "metadata": {},
     "output_type": "execute_result"
    }
   ],
   "source": [
    "rango_4_tensor.shape"
   ]
  },
  {
   "cell_type": "code",
   "execution_count": 39,
   "id": "1804590f",
   "metadata": {},
   "outputs": [
    {
     "data": {
      "text/plain": [
       "<tf.Tensor: shape=(4,), dtype=int32, numpy=array([3, 2, 4, 5], dtype=int32)>"
      ]
     },
     "execution_count": 39,
     "metadata": {},
     "output_type": "execute_result"
    }
   ],
   "source": [
    "tf.shape(rango_4_tensor)"
   ]
  },
  {
   "cell_type": "markdown",
   "id": "13d4acf9",
   "metadata": {},
   "source": [
    "El orden de los ejes puede ser importante. En aplicaciones en machine learning el siguiente orden es típico:\n",
    "\n",
    "![](shape2.png)\n",
    "\n",
    "Así los *features* están en regiones contiguas de memoria."
   ]
  },
  {
   "cell_type": "markdown",
   "id": "fbac2bc6",
   "metadata": {},
   "source": [
    "## El uso de los índices"
   ]
  },
  {
   "cell_type": "markdown",
   "id": "6de8a6c1",
   "metadata": {},
   "source": [
    "Las reglas son como en NumPy:\n",
    "\n",
    "* índices comienzan en `0`.\n",
    "* índices negativos cuentan desde el último elemento hacia atrás.\n",
    "* usamos doble punto `:` para rebanadas (*slices*) `comienzo:último:salto`"
   ]
  },
  {
   "cell_type": "code",
   "execution_count": 41,
   "id": "fe67a143",
   "metadata": {},
   "outputs": [
    {
     "name": "stdout",
     "output_type": "stream",
     "text": [
      "[ 0  1  1  2  3  5  8 13 21 34]\n"
     ]
    }
   ],
   "source": [
    "rango_1_tensor = tf.constant([0,1,1,2,3,5,8,13,21,34])\n",
    "print(rango_1_tensor.numpy())"
   ]
  },
  {
   "cell_type": "code",
   "execution_count": 42,
   "id": "e3d34a73",
   "metadata": {},
   "outputs": [
    {
     "name": "stdout",
     "output_type": "stream",
     "text": [
      "Primero: 0\n"
     ]
    }
   ],
   "source": [
    "print(\"Primero:\", rango_1_tensor[0].numpy())"
   ]
  },
  {
   "cell_type": "code",
   "execution_count": 43,
   "id": "a16dbc6b",
   "metadata": {},
   "outputs": [
    {
     "name": "stdout",
     "output_type": "stream",
     "text": [
      "Segundo: 1\n"
     ]
    }
   ],
   "source": [
    "print(\"Segundo:\", rango_1_tensor[1].numpy())"
   ]
  },
  {
   "cell_type": "code",
   "execution_count": 44,
   "id": "10d9d9b1",
   "metadata": {},
   "outputs": [
    {
     "name": "stdout",
     "output_type": "stream",
     "text": [
      "Último: 34\n"
     ]
    }
   ],
   "source": [
    "print(\"Último:\", rango_1_tensor[-1].numpy())"
   ]
  },
  {
   "cell_type": "markdown",
   "id": "d6ffb705",
   "metadata": {},
   "source": [
    "Índices escalares eliminan el eje, pero rebanadas mantienen el eje:"
   ]
  },
  {
   "cell_type": "code",
   "execution_count": 45,
   "id": "e4a3c446",
   "metadata": {},
   "outputs": [
    {
     "name": "stdout",
     "output_type": "stream",
     "text": [
      "Todo: [ 0  1  1  2  3  5  8 13 21 34]\n"
     ]
    }
   ],
   "source": [
    "print(\"Todo:\", rango_1_tensor[:].numpy())"
   ]
  },
  {
   "cell_type": "code",
   "execution_count": 46,
   "id": "bb3a4814",
   "metadata": {},
   "outputs": [
    {
     "name": "stdout",
     "output_type": "stream",
     "text": [
      "Antes el elemento 4: [0 1 1 2]\n"
     ]
    }
   ],
   "source": [
    "print(\"Antes el elemento 4:\", rango_1_tensor[:4].numpy())"
   ]
  },
  {
   "cell_type": "code",
   "execution_count": 47,
   "id": "470afb6e",
   "metadata": {},
   "outputs": [
    {
     "name": "stdout",
     "output_type": "stream",
     "text": [
      "Del elemento 4 al final: [ 3  5  8 13 21 34]\n"
     ]
    }
   ],
   "source": [
    "print(\"Del elemento 4 al final:\", rango_1_tensor[4:].numpy())"
   ]
  },
  {
   "cell_type": "code",
   "execution_count": 48,
   "id": "64e37ec8",
   "metadata": {},
   "outputs": [
    {
     "name": "stdout",
     "output_type": "stream",
     "text": [
      "Del elemento 2, antes de 7: [1 2 3 5 8]\n"
     ]
    }
   ],
   "source": [
    "print(\"Del elemento 2, antes de 7:\", rango_1_tensor[2:7].numpy())"
   ]
  },
  {
   "cell_type": "code",
   "execution_count": 49,
   "id": "c29aba01",
   "metadata": {},
   "outputs": [
    {
     "name": "stdout",
     "output_type": "stream",
     "text": [
      "Cada segundo elemento: [ 0  1  3  8 21]\n"
     ]
    }
   ],
   "source": [
    "print(\"Cada segundo elemento:\", rango_1_tensor[::2].numpy())"
   ]
  },
  {
   "cell_type": "code",
   "execution_count": 50,
   "id": "25b4fa65",
   "metadata": {},
   "outputs": [
    {
     "name": "stdout",
     "output_type": "stream",
     "text": [
      "En orden inversa: [34 21 13  8  5  3  2  1  1  0]\n"
     ]
    }
   ],
   "source": [
    "print(\"En orden inversa:\", rango_1_tensor[::-1].numpy())"
   ]
  },
  {
   "cell_type": "markdown",
   "id": "7caf884b",
   "metadata": {},
   "source": [
    "### Índices con varios ejes"
   ]
  },
  {
   "cell_type": "code",
   "execution_count": 51,
   "id": "0ef3363c",
   "metadata": {},
   "outputs": [
    {
     "name": "stdout",
     "output_type": "stream",
     "text": [
      "[[1. 2.]\n",
      " [3. 4.]\n",
      " [5. 6.]]\n"
     ]
    }
   ],
   "source": [
    "print(rango_2_tensor.numpy())"
   ]
  },
  {
   "cell_type": "code",
   "execution_count": 52,
   "id": "facb1498",
   "metadata": {},
   "outputs": [
    {
     "name": "stdout",
     "output_type": "stream",
     "text": [
      "4.0\n"
     ]
    }
   ],
   "source": [
    "print(rango_2_tensor[1,1].numpy())"
   ]
  },
  {
   "cell_type": "code",
   "execution_count": 53,
   "id": "1a4146af",
   "metadata": {},
   "outputs": [
    {
     "name": "stdout",
     "output_type": "stream",
     "text": [
      "Segunda fila: [3. 4.]\n"
     ]
    }
   ],
   "source": [
    "print(\"Segunda fila:\", rango_2_tensor[1, :].numpy())"
   ]
  },
  {
   "cell_type": "code",
   "execution_count": 54,
   "id": "c0e9fc4c",
   "metadata": {},
   "outputs": [
    {
     "name": "stdout",
     "output_type": "stream",
     "text": [
      "Segunda columna: [2. 4. 6.]\n"
     ]
    }
   ],
   "source": [
    "print(\"Segunda columna:\", rango_2_tensor[:, 1].numpy())"
   ]
  },
  {
   "cell_type": "code",
   "execution_count": 55,
   "id": "a4e6adfd",
   "metadata": {},
   "outputs": [
    {
     "name": "stdout",
     "output_type": "stream",
     "text": [
      "Última fila: [5. 6.]\n"
     ]
    }
   ],
   "source": [
    "print(\"Última fila:\", rango_2_tensor[-1, :].numpy())"
   ]
  },
  {
   "cell_type": "code",
   "execution_count": 56,
   "id": "d79b4c79",
   "metadata": {},
   "outputs": [
    {
     "name": "stdout",
     "output_type": "stream",
     "text": [
      "Primer elemento en última columna: 2.0\n"
     ]
    }
   ],
   "source": [
    "print(\"Primer elemento en última columna:\", rango_2_tensor[0, -1].numpy())"
   ]
  },
  {
   "cell_type": "code",
   "execution_count": 58,
   "id": "e693860d",
   "metadata": {},
   "outputs": [
    {
     "name": "stdout",
     "output_type": "stream",
     "text": [
      "Saltar la primera fila:\n",
      " [[3. 4.]\n",
      " [5. 6.]]\n"
     ]
    }
   ],
   "source": [
    "print(\"Saltar la primera fila:\\n\", rango_2_tensor[1:, :].numpy())"
   ]
  },
  {
   "cell_type": "code",
   "execution_count": 59,
   "id": "8d87b113",
   "metadata": {},
   "outputs": [
    {
     "name": "stdout",
     "output_type": "stream",
     "text": [
      "tf.Tensor(\n",
      "[[ 4  9]\n",
      " [14 19]\n",
      " [24 29]], shape=(3, 2), dtype=int32)\n"
     ]
    }
   ],
   "source": [
    "print(rango_3_tensor[:, :, 4])"
   ]
  },
  {
   "cell_type": "markdown",
   "id": "9a2bc262",
   "metadata": {},
   "source": [
    "Eligiendo el último *feature* en todas ubicaciones en cada instancia en el lote:\n",
    "\n",
    "| Todos los datos | Valores elegidos |\n",
    "| --------------- | ---------------- |\n",
    "|![](index1.png)  |![](index2.png)   |"
   ]
  },
  {
   "cell_type": "markdown",
   "id": "7da47953",
   "metadata": {},
   "source": [
    "## Manipulación de la forma"
   ]
  },
  {
   "cell_type": "code",
   "execution_count": 60,
   "id": "50ddd813",
   "metadata": {},
   "outputs": [
    {
     "name": "stdout",
     "output_type": "stream",
     "text": [
      "(3, 1)\n"
     ]
    }
   ],
   "source": [
    "x = tf.constant([[1], [2], [3]])\n",
    "print(x.shape)"
   ]
  },
  {
   "cell_type": "code",
   "execution_count": 61,
   "id": "031fd57e",
   "metadata": {},
   "outputs": [
    {
     "name": "stdout",
     "output_type": "stream",
     "text": [
      "[3, 1]\n"
     ]
    }
   ],
   "source": [
    "print(x.shape.as_list())"
   ]
  },
  {
   "cell_type": "markdown",
   "id": "291a6f98",
   "metadata": {},
   "source": [
    "Se puede modificar la forma de un tensor por el uso de `tf.reshape`. Esta operación es rápida porque los datos no están duplicados."
   ]
  },
  {
   "cell_type": "code",
   "execution_count": 62,
   "id": "7e8af93f",
   "metadata": {},
   "outputs": [],
   "source": [
    "reformado = tf.reshape(x, [1, 3])"
   ]
  },
  {
   "cell_type": "code",
   "execution_count": 64,
   "id": "f86fe9a4",
   "metadata": {},
   "outputs": [
    {
     "name": "stdout",
     "output_type": "stream",
     "text": [
      "(3, 1)\n"
     ]
    }
   ],
   "source": [
    "print(x.shape)"
   ]
  },
  {
   "cell_type": "code",
   "execution_count": 65,
   "id": "2508feef",
   "metadata": {},
   "outputs": [
    {
     "name": "stdout",
     "output_type": "stream",
     "text": [
      "(1, 3)\n"
     ]
    }
   ],
   "source": [
    "print(reformado.shape)"
   ]
  },
  {
   "cell_type": "markdown",
   "id": "74a378a3",
   "metadata": {},
   "source": [
    "Los datos mantienen su organización en la memoria, y se crea un nuevo tensor, con la forma pedida, que apunta a los mismos datos.\n",
    "\n",
    "TensorFlow ocupa ordenamiento por fila (*row-major order*) como en C."
   ]
  },
  {
   "cell_type": "code",
   "execution_count": 66,
   "id": "48f789cd",
   "metadata": {},
   "outputs": [
    {
     "name": "stdout",
     "output_type": "stream",
     "text": [
      "tf.Tensor(\n",
      "[[[ 0  1  2  3  4]\n",
      "  [ 5  6  7  8  9]]\n",
      "\n",
      " [[10 11 12 13 14]\n",
      "  [15 16 17 18 19]]\n",
      "\n",
      " [[20 21 22 23 24]\n",
      "  [25 26 27 28 29]]], shape=(3, 2, 5), dtype=int32)\n"
     ]
    }
   ],
   "source": [
    "print(rango_3_tensor)"
   ]
  },
  {
   "cell_type": "markdown",
   "id": "d20440dc",
   "metadata": {},
   "source": [
    "Si aplanamos los datos (*flatten*) podemos ver como están organizados en la memoria."
   ]
  },
  {
   "cell_type": "code",
   "execution_count": 68,
   "id": "5513c44c",
   "metadata": {},
   "outputs": [
    {
     "name": "stdout",
     "output_type": "stream",
     "text": [
      "tf.Tensor(\n",
      "[ 0  1  2  3  4  5  6  7  8  9 10 11 12 13 14 15 16 17 18 19 20 21 22 23\n",
      " 24 25 26 27 28 29], shape=(30,), dtype=int32)\n"
     ]
    }
   ],
   "source": [
    "print(tf.reshape(rango_3_tensor, [-1]))"
   ]
  },
  {
   "cell_type": "markdown",
   "id": "fa82c18e",
   "metadata": {},
   "source": [
    "Para este tensor de $3 \\times 2 \\times 5$, reformar a $(3\\times2)\\times5$ o $3\\times(2\\times5)$ tiene sentido, ya que las rebanadas no se mezclan."
   ]
  },
  {
   "cell_type": "markdown",
   "id": "b35f041c",
   "metadata": {},
   "source": [
    "| Antes | $3 \\times (2\\times 5)$ | $(3\\times 2) \\times 5$ |\n",
    "| ----- | ---------------------- | ---------------------- |\n",
    "|![](reshape-before.png)|![](reshape-good1.png)|![](reshape-good2.png)|"
   ]
  },
  {
   "cell_type": "markdown",
   "id": "43921a4a",
   "metadata": {},
   "source": [
    "Reformar funcionará para cualquier forma nueva con el mismo número total de elementos. Pero no será útil sin respetar el orden de los ejes..."
   ]
  },
  {
   "cell_type": "markdown",
   "id": "aa27bb57",
   "metadata": {},
   "source": [
    "No se puede reordenar los ejes con `tf.reshape` (hay que usar `tf.transpose`)."
   ]
  },
  {
   "cell_type": "code",
   "execution_count": 70,
   "id": "d72c1423",
   "metadata": {},
   "outputs": [
    {
     "name": "stdout",
     "output_type": "stream",
     "text": [
      "tf.Tensor(\n",
      "[[[ 0  1  2  3  4]\n",
      "  [ 5  6  7  8  9]\n",
      "  [10 11 12 13 14]]\n",
      "\n",
      " [[15 16 17 18 19]\n",
      "  [20 21 22 23 24]\n",
      "  [25 26 27 28 29]]], shape=(2, 3, 5), dtype=int32)\n"
     ]
    }
   ],
   "source": [
    "print(tf.reshape(rango_3_tensor, [2,3,5]))"
   ]
  },
  {
   "cell_type": "code",
   "execution_count": 71,
   "id": "a4c6d0ad",
   "metadata": {},
   "outputs": [
    {
     "name": "stdout",
     "output_type": "stream",
     "text": [
      "tf.Tensor(\n",
      "[[ 0  1  2  3  4  5]\n",
      " [ 6  7  8  9 10 11]\n",
      " [12 13 14 15 16 17]\n",
      " [18 19 20 21 22 23]\n",
      " [24 25 26 27 28 29]], shape=(5, 6), dtype=int32)\n"
     ]
    }
   ],
   "source": [
    "print(tf.reshape(rango_3_tensor, [5, 6]))"
   ]
  },
  {
   "cell_type": "code",
   "execution_count": 73,
   "id": "e9549016",
   "metadata": {},
   "outputs": [
    {
     "name": "stdout",
     "output_type": "stream",
     "text": [
      "InvalidArgumentError: {{function_node __wrapped__Reshape_device_/job:localhost/replica:0/task:0/device:CPU:0}} Input to reshape is a tensor with 30 values, but the requested shape requires a multiple of 7 [Op:Reshape]\n"
     ]
    }
   ],
   "source": [
    "try:\n",
    "    tf.reshape(rango_3_tensor, [7, -1])\n",
    "except Exception as e:\n",
    "    print(f\"{type(e).__name__}: {e}\")"
   ]
  },
  {
   "cell_type": "markdown",
   "id": "f00aff8d",
   "metadata": {},
   "source": [
    "## Más sobre `DTypes`"
   ]
  },
  {
   "cell_type": "markdown",
   "id": "6f7d48b3",
   "metadata": {},
   "source": [
    "Cuando se crea un tensor de un objeto de Python, se puede especificar el tipo de datos.\n",
    "\n",
    "Si no se lo hace, TensorFlow elige un tipo que puede representar los datos."
   ]
  },
  {
   "cell_type": "code",
   "execution_count": 77,
   "id": "98ec6cdc",
   "metadata": {},
   "outputs": [
    {
     "name": "stdout",
     "output_type": "stream",
     "text": [
      "tf.Tensor([2.2 3.3 4.4], shape=(3,), dtype=float64)\n"
     ]
    }
   ],
   "source": [
    "tensor_f64 = tf.constant([2.2, 3.3, 4.4], dtype=tf.float64)\n",
    "print(tensor_f64)"
   ]
  },
  {
   "cell_type": "code",
   "execution_count": 78,
   "id": "e4679363",
   "metadata": {},
   "outputs": [
    {
     "name": "stdout",
     "output_type": "stream",
     "text": [
      "tf.Tensor([2.2 3.3 4.4], shape=(3,), dtype=float16)\n"
     ]
    }
   ],
   "source": [
    "tensor_f16 = tf.cast(tensor_f64, dtype=tf.float16)\n",
    "print(tensor_f16)"
   ]
  },
  {
   "cell_type": "code",
   "execution_count": 80,
   "id": "59c6e688",
   "metadata": {},
   "outputs": [
    {
     "name": "stdout",
     "output_type": "stream",
     "text": [
      "tf.Tensor([2 3 4], shape=(3,), dtype=uint8)\n"
     ]
    }
   ],
   "source": [
    "tensor_u8 = tf.cast(tensor_f16, dtype=tf.uint8)\n",
    "print(tensor_u8)"
   ]
  },
  {
   "cell_type": "markdown",
   "id": "0899a4cf",
   "metadata": {},
   "source": [
    "## Broadcasting"
   ]
  },
  {
   "cell_type": "markdown",
   "id": "7243e327",
   "metadata": {},
   "source": [
    "Este es un concepto de NumPy. La idea es \"extender\" tensores más pequeños para tener tensores del mismo tamaño en operaciones matemáticas."
   ]
  },
  {
   "cell_type": "markdown",
   "id": "3eedd177",
   "metadata": {},
   "source": [
    "Un ejemplo simple es en el cálculo del producto de un tensor con un escalar. El escalar está \"extendida\" para tener las mismas dimensiones que el tensor."
   ]
  },
  {
   "cell_type": "code",
   "execution_count": 81,
   "id": "e3af0695",
   "metadata": {},
   "outputs": [],
   "source": [
    "x = tf.constant([1,2,3])"
   ]
  },
  {
   "cell_type": "code",
   "execution_count": 82,
   "id": "0c2f837f",
   "metadata": {},
   "outputs": [],
   "source": [
    "y = tf.constant(2)"
   ]
  },
  {
   "cell_type": "code",
   "execution_count": 83,
   "id": "d6e76607",
   "metadata": {},
   "outputs": [],
   "source": [
    "z = tf.constant([2,2,2])"
   ]
  },
  {
   "cell_type": "code",
   "execution_count": 84,
   "id": "7e4fceba",
   "metadata": {},
   "outputs": [
    {
     "name": "stdout",
     "output_type": "stream",
     "text": [
      "tf.Tensor([2 4 6], shape=(3,), dtype=int32)\n"
     ]
    }
   ],
   "source": [
    "print(tf.multiply(x,2))"
   ]
  },
  {
   "cell_type": "code",
   "execution_count": 85,
   "id": "af1f7786",
   "metadata": {},
   "outputs": [
    {
     "name": "stdout",
     "output_type": "stream",
     "text": [
      "tf.Tensor([2 4 6], shape=(3,), dtype=int32)\n"
     ]
    }
   ],
   "source": [
    "print(x*y)"
   ]
  },
  {
   "cell_type": "code",
   "execution_count": 87,
   "id": "41402e6f",
   "metadata": {},
   "outputs": [
    {
     "name": "stdout",
     "output_type": "stream",
     "text": [
      "tf.Tensor([2 4 6], shape=(3,), dtype=int32)\n"
     ]
    }
   ],
   "source": [
    "print(x*z)"
   ]
  },
  {
   "cell_type": "markdown",
   "id": "caf9cbf2",
   "metadata": {},
   "source": [
    "También, ejes con longitud $1$ pueden ser extendidas para coincidir con otros argumentos en la operación.\n",
    "\n",
    "Por ejemplo, multiplicación de una matriz $3\\times1$ elemento-por-elemento con otra matriz $1\\times4$ resulta en una matriz $3\\times4$.\n",
    "\n",
    "![](broadcasting.png)"
   ]
  },
  {
   "cell_type": "code",
   "execution_count": 88,
   "id": "27dba0ef",
   "metadata": {},
   "outputs": [],
   "source": [
    "x = tf.reshape(x, [3,1])"
   ]
  },
  {
   "cell_type": "code",
   "execution_count": 89,
   "id": "148340c7",
   "metadata": {},
   "outputs": [],
   "source": [
    "y = tf.range(1, 5)"
   ]
  },
  {
   "cell_type": "code",
   "execution_count": 90,
   "id": "39ba35dd",
   "metadata": {},
   "outputs": [
    {
     "name": "stdout",
     "output_type": "stream",
     "text": [
      "tf.Tensor(\n",
      "[[1]\n",
      " [2]\n",
      " [3]], shape=(3, 1), dtype=int32)\n"
     ]
    }
   ],
   "source": [
    "print(x)"
   ]
  },
  {
   "cell_type": "code",
   "execution_count": 91,
   "id": "49189dc2",
   "metadata": {},
   "outputs": [
    {
     "name": "stdout",
     "output_type": "stream",
     "text": [
      "tf.Tensor([1 2 3 4], shape=(4,), dtype=int32)\n"
     ]
    }
   ],
   "source": [
    "print(y)"
   ]
  },
  {
   "cell_type": "code",
   "execution_count": 92,
   "id": "16364ffe",
   "metadata": {},
   "outputs": [
    {
     "name": "stdout",
     "output_type": "stream",
     "text": [
      "tf.Tensor(\n",
      "[[ 1  2  3  4]\n",
      " [ 2  4  6  8]\n",
      " [ 3  6  9 12]], shape=(3, 4), dtype=int32)\n"
     ]
    }
   ],
   "source": [
    "print(tf.multiply(x, y))"
   ]
  },
  {
   "cell_type": "markdown",
   "id": "46329d9d",
   "metadata": {},
   "source": [
    "En la mayoría de los casos nunca materializamos los tensores extendidos en la memoria, así que la operación es eficiente.\n",
    "\n",
    "Podemos materializar el tensor que resulta de *broadcasting* con `tf.broadcast_to`:"
   ]
  },
  {
   "cell_type": "code",
   "execution_count": 93,
   "id": "f10adb58",
   "metadata": {},
   "outputs": [
    {
     "name": "stdout",
     "output_type": "stream",
     "text": [
      "tf.Tensor(\n",
      "[[1 2 3]\n",
      " [1 2 3]\n",
      " [1 2 3]], shape=(3, 3), dtype=int32)\n"
     ]
    }
   ],
   "source": [
    "print(tf.broadcast_to(tf.constant([1,2,3]), [3,3]))"
   ]
  },
  {
   "cell_type": "markdown",
   "id": "d14178bc",
   "metadata": {},
   "source": [
    "Hay más información [aquí](https://jakevdp.github.io/PythonDataScienceHandbook/02.05-computation-on-arrays-broadcasting.html) sobre *broadcasting* en NumPy. Puede ser bastante complicado!"
   ]
  },
  {
   "cell_type": "markdown",
   "id": "ff6a36a8",
   "metadata": {},
   "source": [
    "## Tensores irregulares"
   ]
  },
  {
   "cell_type": "markdown",
   "id": "5e999d04",
   "metadata": {},
   "source": [
    "Un tensor con un número variable de elementos en algún eje se llama *ragged* (irregular). Se puede usar `tf.ragged.RaggedTensor` para datos así.\n",
    "\n",
    "![](ragged.png)"
   ]
  },
  {
   "cell_type": "code",
   "execution_count": 3,
   "id": "c3eee6b8",
   "metadata": {},
   "outputs": [],
   "source": [
    "lista_irregular = [\n",
    "    [0,1,2,3],\n",
    "    [4,5],\n",
    "    [6,7,8],\n",
    "    [9]\n",
    "]"
   ]
  },
  {
   "cell_type": "code",
   "execution_count": 4,
   "id": "b9644f6a",
   "metadata": {},
   "outputs": [
    {
     "name": "stdout",
     "output_type": "stream",
     "text": [
      "ValueError: Can't convert non-rectangular Python sequence to Tensor.\n"
     ]
    },
    {
     "name": "stderr",
     "output_type": "stream",
     "text": [
      "2023-09-06 22:35:48.644206: I tensorflow/compiler/xla/stream_executor/cuda/cuda_gpu_executor.cc:995] successful NUMA node read from SysFS had negative value (-1), but there must be at least one NUMA node, so returning NUMA node zero. See more at https://github.com/torvalds/linux/blob/v6.0/Documentation/ABI/testing/sysfs-bus-pci#L344-L355\n",
      "2023-09-06 22:35:48.967974: W tensorflow/core/common_runtime/gpu/gpu_device.cc:1960] Cannot dlopen some GPU libraries. Please make sure the missing libraries mentioned above are installed properly if you would like to use GPU. Follow the guide at https://www.tensorflow.org/install/gpu for how to download and setup the required libraries for your platform.\n",
      "Skipping registering GPU devices...\n"
     ]
    }
   ],
   "source": [
    "try:\n",
    "    tensor = tf.constant(lista_irregular)\n",
    "except Exception as e:\n",
    "    print(f\"{type(e).__name__}: {e}\")"
   ]
  },
  {
   "cell_type": "code",
   "execution_count": 5,
   "id": "2dd62c4a",
   "metadata": {},
   "outputs": [
    {
     "name": "stdout",
     "output_type": "stream",
     "text": [
      "<tf.RaggedTensor [[0, 1, 2, 3], [4, 5], [6, 7, 8], [9]]>\n"
     ]
    }
   ],
   "source": [
    "tensor_irregular = tf.ragged.constant(lista_irregular)\n",
    "print(tensor_irregular)"
   ]
  },
  {
   "cell_type": "code",
   "execution_count": 6,
   "id": "03a8688e",
   "metadata": {},
   "outputs": [
    {
     "name": "stdout",
     "output_type": "stream",
     "text": [
      "(4, None)\n"
     ]
    }
   ],
   "source": [
    "print(tensor_irregular.shape)"
   ]
  },
  {
   "cell_type": "markdown",
   "id": "c83cab0f",
   "metadata": {},
   "source": [
    "## Tensores de *strings*"
   ]
  },
  {
   "cell_type": "markdown",
   "id": "9ca45da4",
   "metadata": {},
   "source": [
    "`tf.string` es un `dtype`, así que podemos representar datos como *strings* (arreglos de bytes de tamaño variable) en tensores.\n",
    "\n",
    "Los *strings* son \"atómicos\": no se puede acceder los carácteres individuales como en *strings* normales de Python. La longitud del *string* NO es un eje del tensor."
   ]
  },
  {
   "cell_type": "code",
   "execution_count": 7,
   "id": "f72c9d87",
   "metadata": {},
   "outputs": [
    {
     "name": "stdout",
     "output_type": "stream",
     "text": [
      "tf.Tensor(b'Lobo gris', shape=(), dtype=string)\n"
     ]
    }
   ],
   "source": [
    "tensor_string_escalar = tf.constant(\"Lobo gris\")\n",
    "print(tensor_string_escalar)"
   ]
  },
  {
   "cell_type": "markdown",
   "id": "83c8a606",
   "metadata": {},
   "source": [
    "También podemos tener vectores de *strings*:"
   ]
  },
  {
   "cell_type": "code",
   "execution_count": 13,
   "id": "971b9a68",
   "metadata": {},
   "outputs": [],
   "source": [
    "tensor_de_strings = tf.constant([\"Lobo gris\", \"Perro blanco grande\", \"Gato negro\"])"
   ]
  },
  {
   "cell_type": "code",
   "execution_count": 14,
   "id": "cc1faaad",
   "metadata": {},
   "outputs": [
    {
     "name": "stdout",
     "output_type": "stream",
     "text": [
      "tf.Tensor([b'Lobo gris' b'Perro blanco grande' b'Gato negro'], shape=(3,), dtype=string)\n"
     ]
    }
   ],
   "source": [
    "print(tensor_de_strings)"
   ]
  },
  {
   "cell_type": "markdown",
   "id": "301ce084",
   "metadata": {},
   "source": [
    "La letra `b` indica que son *byte-strings* (no es *unicode*). Pasando carácteres de *unicode* son registrados usando utf-8."
   ]
  },
  {
   "cell_type": "code",
   "execution_count": 15,
   "id": "8fe701a9",
   "metadata": {},
   "outputs": [
    {
     "data": {
      "text/plain": [
       "<tf.Tensor: shape=(), dtype=string, numpy=b'\\xf0\\x9f\\xa5\\xb3\\xf0\\x9f\\x91\\x8d'>"
      ]
     },
     "execution_count": 15,
     "metadata": {},
     "output_type": "execute_result"
    }
   ],
   "source": [
    "tf.constant(\"🥳👍\")"
   ]
  },
  {
   "cell_type": "markdown",
   "id": "e41bd917",
   "metadata": {},
   "source": [
    "Hay algunas funciones disponibles para manipular *strings*:"
   ]
  },
  {
   "cell_type": "code",
   "execution_count": 16,
   "id": "379fa46a",
   "metadata": {},
   "outputs": [
    {
     "name": "stdout",
     "output_type": "stream",
     "text": [
      "tf.Tensor([b'Lobo' b'gris'], shape=(2,), dtype=string)\n"
     ]
    }
   ],
   "source": [
    "print(tf.strings.split(tensor_string_escalar, sep=\" \"))"
   ]
  },
  {
   "cell_type": "code",
   "execution_count": 17,
   "id": "7bce2111",
   "metadata": {},
   "outputs": [
    {
     "name": "stdout",
     "output_type": "stream",
     "text": [
      "<tf.RaggedTensor [[b'Lobo', b'gris'], [b'Perro', b'blanco', b'grande'], [b'Gato', b'negro']]>\n"
     ]
    }
   ],
   "source": [
    "print(tf.strings.split(tensor_de_strings))"
   ]
  },
  {
   "cell_type": "code",
   "execution_count": 18,
   "id": "2bf4c2b7",
   "metadata": {},
   "outputs": [
    {
     "name": "stdout",
     "output_type": "stream",
     "text": [
      "tf.Tensor([  1.  10. 100.], shape=(3,), dtype=float32)\n"
     ]
    }
   ],
   "source": [
    "texto = tf.constant(\"1 10 100\")\n",
    "print(tf.strings.to_number(tf.strings.split(texto, \" \")))"
   ]
  },
  {
   "cell_type": "markdown",
   "id": "36b7794c",
   "metadata": {},
   "source": [
    "No se puede usar `tf.cast` para convertir un tensor de *strings* en números, pero se puede convertir a bytes y después a números."
   ]
  },
  {
   "cell_type": "code",
   "execution_count": 19,
   "id": "6e246401",
   "metadata": {},
   "outputs": [],
   "source": [
    "byte_strings = tf.strings.bytes_split(tf.constant(\"Pato\"))"
   ]
  },
  {
   "cell_type": "code",
   "execution_count": 22,
   "id": "0c32dcb2",
   "metadata": {},
   "outputs": [],
   "source": [
    "byte_ints = tf.io.decode_raw(tf.constant(\"Pato\"), tf.uint8)"
   ]
  },
  {
   "cell_type": "code",
   "execution_count": 24,
   "id": "841e1416",
   "metadata": {},
   "outputs": [
    {
     "name": "stdout",
     "output_type": "stream",
     "text": [
      "Byte strings:  tf.Tensor([b'P' b'a' b't' b'o'], shape=(4,), dtype=string)\n"
     ]
    }
   ],
   "source": [
    "print(\"Byte strings: \", byte_strings)"
   ]
  },
  {
   "cell_type": "code",
   "execution_count": 25,
   "id": "c7a26b50",
   "metadata": {},
   "outputs": [
    {
     "name": "stdout",
     "output_type": "stream",
     "text": [
      "Bytes:  tf.Tensor([ 80  97 116 111], shape=(4,), dtype=uint8)\n"
     ]
    }
   ],
   "source": [
    "print(\"Bytes: \", byte_ints)"
   ]
  },
  {
   "cell_type": "code",
   "execution_count": 26,
   "id": "bf1a44d0",
   "metadata": {},
   "outputs": [],
   "source": [
    "unicode_bytes = tf.constant(\"アヒル 🦆\")"
   ]
  },
  {
   "cell_type": "code",
   "execution_count": 27,
   "id": "09dfe906",
   "metadata": {},
   "outputs": [],
   "source": [
    "unicode_char_bytes = tf.strings.unicode_split(unicode_bytes, \"UTF-8\")"
   ]
  },
  {
   "cell_type": "code",
   "execution_count": 28,
   "id": "8a579cbf",
   "metadata": {},
   "outputs": [],
   "source": [
    "unicode_values = tf.strings.unicode_decode(unicode_bytes, \"UTF-8\")"
   ]
  },
  {
   "cell_type": "code",
   "execution_count": 29,
   "id": "225aaf45",
   "metadata": {},
   "outputs": [
    {
     "name": "stdout",
     "output_type": "stream",
     "text": [
      "\n",
      "Unicode bytes: tf.Tensor(b'\\xe3\\x82\\xa2\\xe3\\x83\\x92\\xe3\\x83\\xab \\xf0\\x9f\\xa6\\x86', shape=(), dtype=string)\n",
      "\n",
      "Unicode chars: tf.Tensor([b'\\xe3\\x82\\xa2' b'\\xe3\\x83\\x92' b'\\xe3\\x83\\xab' b' ' b'\\xf0\\x9f\\xa6\\x86'], shape=(5,), dtype=string)\n",
      "\n",
      "Unicode values: tf.Tensor([ 12450  12498  12523     32 129414], shape=(5,), dtype=int32)\n"
     ]
    }
   ],
   "source": [
    "print(\"\\nUnicode bytes:\", unicode_bytes)\n",
    "print(\"\\nUnicode chars:\", unicode_char_bytes)\n",
    "print(\"\\nUnicode values:\", unicode_values)"
   ]
  },
  {
   "cell_type": "markdown",
   "id": "0b9d22b4",
   "metadata": {},
   "source": [
    "## Tensores dispersos (*sparse tensors*)"
   ]
  },
  {
   "cell_type": "markdown",
   "id": "366efe0c",
   "metadata": {},
   "source": [
    "En TensorFlow existen objetos de tipo `tf.sparse.SparseTensor` y operaciones relacionadas para guardar datos dispersos en una manera eficiente.\n",
    "\n",
    "![](sparse.png)"
   ]
  },
  {
   "cell_type": "code",
   "execution_count": 30,
   "id": "ab9e7e2f",
   "metadata": {},
   "outputs": [],
   "source": [
    "tensor_disperso = tf.sparse.SparseTensor(indices=[[0,0], [1,2]],\n",
    "                                         values=[1, 2],\n",
    "                                         dense_shape=[3,4])"
   ]
  },
  {
   "cell_type": "code",
   "execution_count": 31,
   "id": "59dab9ad",
   "metadata": {},
   "outputs": [
    {
     "name": "stdout",
     "output_type": "stream",
     "text": [
      "SparseTensor(indices=tf.Tensor(\n",
      "[[0 0]\n",
      " [1 2]], shape=(2, 2), dtype=int64), values=tf.Tensor([1 2], shape=(2,), dtype=int32), dense_shape=tf.Tensor([3 4], shape=(2,), dtype=int64))\n"
     ]
    }
   ],
   "source": [
    "print(tensor_disperso)"
   ]
  },
  {
   "cell_type": "code",
   "execution_count": 32,
   "id": "e7b3a1d8",
   "metadata": {},
   "outputs": [
    {
     "name": "stdout",
     "output_type": "stream",
     "text": [
      "tf.Tensor(\n",
      "[[1 0 0 0]\n",
      " [0 0 2 0]\n",
      " [0 0 0 0]], shape=(3, 4), dtype=int32)\n"
     ]
    }
   ],
   "source": [
    "print(tf.sparse.to_dense(tensor_disperso))"
   ]
  },
  {
   "cell_type": "code",
   "execution_count": null,
   "id": "ce87e526",
   "metadata": {},
   "outputs": [],
   "source": []
  }
 ],
 "metadata": {
  "kernelspec": {
   "display_name": "Python 3 (ipykernel)",
   "language": "python",
   "name": "python3"
  },
  "language_info": {
   "codemirror_mode": {
    "name": "ipython",
    "version": 3
   },
   "file_extension": ".py",
   "mimetype": "text/x-python",
   "name": "python",
   "nbconvert_exporter": "python",
   "pygments_lexer": "ipython3",
   "version": "3.9.17"
  }
 },
 "nbformat": 4,
 "nbformat_minor": 5
}
