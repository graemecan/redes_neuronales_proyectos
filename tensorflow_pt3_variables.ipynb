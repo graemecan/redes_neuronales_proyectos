{
 "cells": [
  {
   "cell_type": "markdown",
   "id": "d96d25a2",
   "metadata": {},
   "source": [
    "# TensorFlow Parte III - Variables"
   ]
  },
  {
   "cell_type": "markdown",
   "id": "f5619413",
   "metadata": {},
   "source": [
    "Con variables podemos representar datos que cambiarán durante el cálculo. Usamos la clase `tf.Variable` que representa un tensor con valores que se puede modificar."
   ]
  },
  {
   "cell_type": "code",
   "execution_count": 1,
   "id": "b51f9fc8",
   "metadata": {},
   "outputs": [
    {
     "name": "stderr",
     "output_type": "stream",
     "text": [
      "2023-09-06 22:56:06.536963: I tensorflow/core/platform/cpu_feature_guard.cc:182] This TensorFlow binary is optimized to use available CPU instructions in performance-critical operations.\n",
      "To enable the following instructions: AVX2 FMA, in other operations, rebuild TensorFlow with the appropriate compiler flags.\n",
      "2023-09-06 22:56:07.343904: W tensorflow/compiler/tf2tensorrt/utils/py_utils.cc:38] TF-TRT Warning: Could not find TensorRT\n"
     ]
    }
   ],
   "source": [
    "import tensorflow as tf"
   ]
  },
  {
   "cell_type": "markdown",
   "id": "ab164b8e",
   "metadata": {},
   "source": [
    "## Crear una variable"
   ]
  },
  {
   "cell_type": "code",
   "execution_count": 2,
   "id": "581bb6a9",
   "metadata": {},
   "outputs": [
    {
     "name": "stderr",
     "output_type": "stream",
     "text": [
      "2023-09-06 22:56:57.312062: I tensorflow/compiler/xla/stream_executor/cuda/cuda_gpu_executor.cc:995] successful NUMA node read from SysFS had negative value (-1), but there must be at least one NUMA node, so returning NUMA node zero. See more at https://github.com/torvalds/linux/blob/v6.0/Documentation/ABI/testing/sysfs-bus-pci#L344-L355\n",
      "2023-09-06 22:56:57.318808: W tensorflow/core/common_runtime/gpu/gpu_device.cc:1960] Cannot dlopen some GPU libraries. Please make sure the missing libraries mentioned above are installed properly if you would like to use GPU. Follow the guide at https://www.tensorflow.org/install/gpu for how to download and setup the required libraries for your platform.\n",
      "Skipping registering GPU devices...\n"
     ]
    }
   ],
   "source": [
    "mi_tensor = tf.constant([[1.0, 2.0], [3.0, 4.0]])\n",
    "mi_variable = tf.Variable(mi_tensor)"
   ]
  },
  {
   "cell_type": "markdown",
   "id": "153361de",
   "metadata": {},
   "source": [
    "Variables pueden tener cualquier tipo"
   ]
  },
  {
   "cell_type": "code",
   "execution_count": 3,
   "id": "a874846c",
   "metadata": {},
   "outputs": [],
   "source": [
    "variable_bool = tf.Variable([False, False, False, True])\n",
    "variable_compleja = tf.Variable([5+4j, 6+1j])"
   ]
  },
  {
   "cell_type": "markdown",
   "id": "d951c309",
   "metadata": {},
   "source": [
    "Variables en TensorFlow son muy similares a tensores. Tienen un `dtype`, una forma y se puede exportar a NumPy."
   ]
  },
  {
   "cell_type": "code",
   "execution_count": 4,
   "id": "0375f2ed",
   "metadata": {},
   "outputs": [
    {
     "data": {
      "text/plain": [
       "TensorShape([2, 2])"
      ]
     },
     "execution_count": 4,
     "metadata": {},
     "output_type": "execute_result"
    }
   ],
   "source": [
    "mi_variable.shape"
   ]
  },
  {
   "cell_type": "code",
   "execution_count": 5,
   "id": "44d0baae",
   "metadata": {},
   "outputs": [
    {
     "data": {
      "text/plain": [
       "tf.float32"
      ]
     },
     "execution_count": 5,
     "metadata": {},
     "output_type": "execute_result"
    }
   ],
   "source": [
    "mi_variable.dtype"
   ]
  },
  {
   "cell_type": "code",
   "execution_count": 6,
   "id": "748636f9",
   "metadata": {},
   "outputs": [
    {
     "data": {
      "text/plain": [
       "array([[1., 2.],\n",
       "       [3., 4.]], dtype=float32)"
      ]
     },
     "execution_count": 6,
     "metadata": {},
     "output_type": "execute_result"
    }
   ],
   "source": [
    "mi_variable.numpy()"
   ]
  },
  {
   "cell_type": "code",
   "execution_count": null,
   "id": "d2d8a66a",
   "metadata": {},
   "outputs": [],
   "source": []
  }
 ],
 "metadata": {
  "kernelspec": {
   "display_name": "Python 3 (ipykernel)",
   "language": "python",
   "name": "python3"
  },
  "language_info": {
   "codemirror_mode": {
    "name": "ipython",
    "version": 3
   },
   "file_extension": ".py",
   "mimetype": "text/x-python",
   "name": "python",
   "nbconvert_exporter": "python",
   "pygments_lexer": "ipython3",
   "version": "3.9.17"
  }
 },
 "nbformat": 4,
 "nbformat_minor": 5
}
