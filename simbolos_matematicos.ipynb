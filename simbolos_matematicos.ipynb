{
 "cells": [
  {
   "cell_type": "code",
   "execution_count": 10,
   "metadata": {
    "id": "lVVeCg7PkqT_"
   },
   "outputs": [],
   "source": [
    "import numpy as np"
   ]
  },
  {
   "cell_type": "code",
   "execution_count": 12,
   "metadata": {
    "id": "Wy1mLDzxkvM3"
   },
   "outputs": [],
   "source": [
    "import matplotlib.pyplot as plt"
   ]
  },
  {
   "cell_type": "code",
   "execution_count": 13,
   "metadata": {
    "id": "yiXIM8rUjuzE"
   },
   "outputs": [],
   "source": [
    "from PIL import Image, ImageDraw, ImageFont\n",
    "\n",
    "def generate_equals_image():\n",
    "    # Image size\n",
    "    image_size = (28, 28)\n",
    "\n",
    "    # Create a new image with a white background\n",
    "    image = Image.new(\"L\", image_size, \"white\")\n",
    "    draw = ImageDraw.Draw(image)\n",
    "\n",
    "    # Set font and size for the equals sign\n",
    "    font_size = 20\n",
    "    font = ImageFont.truetype(\"DejaVuSans.ttf\", font_size)\n",
    "\n",
    "    # Calculate the position to center the equals sign in the image\n",
    "    text = u\"\\u2207\"\n",
    "    textwidth, textheight = draw.textbbox((0,0), text, font=font)\n",
    "    \n",
    "    x = (image_size[0] - text_width) // 2\n",
    "    y = (image_size[1] - text_height) // 2\n",
    "\n",
    "    # Draw the equals sign on the image\n",
    "    draw.text((x, y), text, font=font, fill=\"black\")\n",
    "\n",
    "    return(image)"
   ]
  },
  {
   "cell_type": "code",
   "execution_count": 18,
   "metadata": {},
   "outputs": [],
   "source": [
    "image_size = (28, 28)\n",
    "\n",
    "# Create a new image with a white background\n",
    "image = Image.new(\"L\", image_size, \"white\")\n",
    "draw = ImageDraw.Draw(image)\n",
    "\n",
    "# Set font and size for the equals sign\n",
    "font_size = 20\n",
    "font = ImageFont.truetype(\"DejaVuSans.ttf\", font_size)\n",
    "\n",
    "# Calculate the position to center the equals sign in the image\n",
    "text = u\"\\u2207\"\n",
    "left, top, right, bottom = draw.textbbox((0,0), text, font=font)\n",
    "\n",
    "x = (image_size[0] - (right-left)) // 2\n",
    "y = (image_size[1] - (top-bottom)) // 2\n",
    "\n",
    "# Draw the equals sign on the image\n",
    "draw.text((x, y), text, font=font, fill=\"black\")"
   ]
  },
  {
   "cell_type": "code",
   "execution_count": 19,
   "metadata": {},
   "outputs": [
    {
     "data": {
      "text/plain": [
       "(-1, 4, 14, 19)"
      ]
     },
     "execution_count": 19,
     "metadata": {},
     "output_type": "execute_result"
    }
   ],
   "source": [
    "draw.textbbox((0,0), text, font=font)"
   ]
  },
  {
   "cell_type": "code",
   "execution_count": 20,
   "metadata": {
    "colab": {
     "base_uri": "https://localhost:8080/"
    },
    "id": "S96nZLu2j2mH",
    "outputId": "c4141df6-505e-488e-fd25-27a7c01dad98"
   },
   "outputs": [
    {
     "ename": "ValueError",
     "evalue": "too many values to unpack (expected 2)",
     "output_type": "error",
     "traceback": [
      "\u001b[0;31m---------------------------------------------------------------------------\u001b[0m",
      "\u001b[0;31mValueError\u001b[0m                                Traceback (most recent call last)",
      "Cell \u001b[0;32mIn[20], line 1\u001b[0m\n\u001b[0;32m----> 1\u001b[0m img \u001b[38;5;241m=\u001b[39m generate_equals_image()\n",
      "Cell \u001b[0;32mIn[13], line 17\u001b[0m, in \u001b[0;36mgenerate_equals_image\u001b[0;34m()\u001b[0m\n\u001b[1;32m     15\u001b[0m \u001b[38;5;66;03m# Calculate the position to center the equals sign in the image\u001b[39;00m\n\u001b[1;32m     16\u001b[0m text \u001b[38;5;241m=\u001b[39m \u001b[38;5;124mu\u001b[39m\u001b[38;5;124m\"\u001b[39m\u001b[38;5;130;01m\\u2207\u001b[39;00m\u001b[38;5;124m\"\u001b[39m\n\u001b[0;32m---> 17\u001b[0m textwidth, textheight \u001b[38;5;241m=\u001b[39m draw\u001b[38;5;241m.\u001b[39mtextbbox((\u001b[38;5;241m0\u001b[39m,\u001b[38;5;241m0\u001b[39m), text, font\u001b[38;5;241m=\u001b[39mfont)\n\u001b[1;32m     19\u001b[0m x \u001b[38;5;241m=\u001b[39m (image_size[\u001b[38;5;241m0\u001b[39m] \u001b[38;5;241m-\u001b[39m text_width) \u001b[38;5;241m/\u001b[39m\u001b[38;5;241m/\u001b[39m \u001b[38;5;241m2\u001b[39m\n\u001b[1;32m     20\u001b[0m y \u001b[38;5;241m=\u001b[39m (image_size[\u001b[38;5;241m1\u001b[39m] \u001b[38;5;241m-\u001b[39m text_height) \u001b[38;5;241m/\u001b[39m\u001b[38;5;241m/\u001b[39m \u001b[38;5;241m2\u001b[39m\n",
      "\u001b[0;31mValueError\u001b[0m: too many values to unpack (expected 2)"
     ]
    }
   ],
   "source": [
    "img = generate_equals_image()"
   ]
  },
  {
   "cell_type": "code",
   "execution_count": null,
   "metadata": {},
   "outputs": [],
   "source": []
  },
  {
   "cell_type": "code",
   "execution_count": 18,
   "metadata": {
    "id": "1VIu1ZMIkZt-"
   },
   "outputs": [],
   "source": [
    "pix = np.array(img)"
   ]
  },
  {
   "cell_type": "code",
   "execution_count": 24,
   "metadata": {
    "colab": {
     "base_uri": "https://localhost:8080/",
     "height": 447
    },
    "id": "Iw2bNE08ktYf",
    "outputId": "dce361bc-6e8c-44e4-bca5-b94306bc0f95"
   },
   "outputs": [
    {
     "data": {
      "text/plain": [
       "<matplotlib.image.AxesImage at 0x7b7e5407dc90>"
      ]
     },
     "execution_count": 24,
     "metadata": {},
     "output_type": "execute_result"
    },
    {
     "data": {
      "image/png": "[encoded data removed]",
      "text/plain": [
       "<Figure size 640x480 with 1 Axes>"
      ]
     },
     "metadata": {},
     "output_type": "display_data"
    }
   ],
   "source": [
    "plt.imshow(pix,cmap='gray')"
   ]
  },
  {
   "cell_type": "code",
   "execution_count": 4,
   "metadata": {},
   "outputs": [
    {
     "name": "stdout",
     "output_type": "stream",
     "text": [
      "∇²\n"
     ]
    }
   ],
   "source": [
    "print('\\u2207\\u00B2')"
   ]
  },
  {
   "cell_type": "code",
   "execution_count": null,
   "metadata": {},
   "outputs": [],
   "source": []
  }
 ],
 "metadata": {
  "colab": {
   "provenance": []
  },
  "kernelspec": {
   "display_name": "Python 3 (ipykernel)",
   "language": "python",
   "name": "python3"
  },
  "language_info": {
   "codemirror_mode": {
    "name": "ipython",
    "version": 3
   },
   "file_extension": ".py",
   "mimetype": "text/x-python",
   "name": "python",
   "nbconvert_exporter": "python",
   "pygments_lexer": "ipython3",
   "version": "3.11.5"
  }
 },
 "nbformat": 4,
 "nbformat_minor": 1
}
