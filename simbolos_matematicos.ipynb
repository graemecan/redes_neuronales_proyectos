{
 "cells": [
  {
   "cell_type": "code",
   "execution_count": 43,
   "metadata": {
    "colab": {
     "base_uri": "https://localhost:8080/"
    },
    "executionInfo": {
     "elapsed": 2260,
     "status": "ok",
     "timestamp": 1699634931066,
     "user": {
      "displayName": "Graeme Candlish",
      "userId": "17033764210677251830"
     },
     "user_tz": 180
    },
    "id": "Zb8Rttbw_eXj",
    "outputId": "46f21e9e-3a03-4d7e-b0b5-17d3509d2150"
   },
   "outputs": [
    {
     "name": "stdout",
     "output_type": "stream",
     "text": [
      "--2023-11-10 16:48:48--  http://sourceforge.net/projects/dejavu/files/dejavu/2.37/dejavu-fonts-ttf-2.37.tar.bz2\n",
      "Resolving sourceforge.net (sourceforge.net)... 104.18.37.111, 172.64.150.145, 2606:4700:4400::ac40:9691, ...\n",
      "Connecting to sourceforge.net (sourceforge.net)|104.18.37.111|:80... connected.\n",
      "HTTP request sent, awaiting response... 301 Moved Permanently\n",
      "Location: https://sourceforge.net/projects/dejavu/files/dejavu/2.37/dejavu-fonts-ttf-2.37.tar.bz2 [following]\n",
      "--2023-11-10 16:48:48--  https://sourceforge.net/projects/dejavu/files/dejavu/2.37/dejavu-fonts-ttf-2.37.tar.bz2\n",
      "Connecting to sourceforge.net (sourceforge.net)|104.18.37.111|:443... connected.\n",
      "HTTP request sent, awaiting response... 301 Moved Permanently\n",
      "Location: https://sourceforge.net/projects/dejavu/files/dejavu/2.37/dejavu-fonts-ttf-2.37.tar.bz2/ [following]\n",
      "--2023-11-10 16:48:48--  https://sourceforge.net/projects/dejavu/files/dejavu/2.37/dejavu-fonts-ttf-2.37.tar.bz2/\n",
      "Reusing existing connection to sourceforge.net:443.\n",
      "HTTP request sent, awaiting response... 301 Moved Permanently\n",
      "Location: https://sourceforge.net/projects/dejavu/files/dejavu/2.37/dejavu-fonts-ttf-2.37.tar.bz2/download [following]\n",
      "--2023-11-10 16:48:49--  https://sourceforge.net/projects/dejavu/files/dejavu/2.37/dejavu-fonts-ttf-2.37.tar.bz2/download\n",
      "Reusing existing connection to sourceforge.net:443.\n",
      "HTTP request sent, awaiting response... 302 Found\n",
      "Location: https://downloads.sourceforge.net/project/dejavu/dejavu/2.37/dejavu-fonts-ttf-2.37.tar.bz2?ts=gAAAAABlTl7xTxzMUZ2fHBeJ_hVuTYV6p79bS8de6C0CaO_idFkDHcSqp_vvB-EEH2j_N12YgeFLRatHctzJYkOD6FkPja8zuw%3D%3D&use_mirror=newcontinuum&r= [following]\n",
      "--2023-11-10 16:48:49--  https://downloads.sourceforge.net/project/dejavu/dejavu/2.37/dejavu-fonts-ttf-2.37.tar.bz2?ts=gAAAAABlTl7xTxzMUZ2fHBeJ_hVuTYV6p79bS8de6C0CaO_idFkDHcSqp_vvB-EEH2j_N12YgeFLRatHctzJYkOD6FkPja8zuw%3D%3D&use_mirror=newcontinuum&r=\n",
      "Resolving downloads.sourceforge.net (downloads.sourceforge.net)... 204.68.111.105\n",
      "Connecting to downloads.sourceforge.net (downloads.sourceforge.net)|204.68.111.105|:443... connected.\n",
      "HTTP request sent, awaiting response... 302 Found\n",
      "Location: https://newcontinuum.dl.sourceforge.net/project/dejavu/dejavu/2.37/dejavu-fonts-ttf-2.37.tar.bz2 [following]\n",
      "--2023-11-10 16:48:49--  https://newcontinuum.dl.sourceforge.net/project/dejavu/dejavu/2.37/dejavu-fonts-ttf-2.37.tar.bz2\n",
      "Resolving newcontinuum.dl.sourceforge.net (newcontinuum.dl.sourceforge.net)... 64.79.96.4, 2607:ff50:0:11::32\n",
      "Connecting to newcontinuum.dl.sourceforge.net (newcontinuum.dl.sourceforge.net)|64.79.96.4|:443... connected.\n",
      "HTTP request sent, awaiting response... 200 OK\n",
      "Length: 5429777 (5.2M) [application/octet-stream]\n",
      "Saving to: ‘dejavu-fonts-ttf-2.37.tar.bz2’\n",
      "\n",
      "dejavu-fonts-ttf-2. 100%[===================>]   5.18M  7.32MB/s    in 0.7s    \n",
      "\n",
      "2023-11-10 16:48:50 (7.32 MB/s) - ‘dejavu-fonts-ttf-2.37.tar.bz2’ saved [5429777/5429777]\n",
      "\n"
     ]
    }
   ],
   "source": [
    "!wget http://sourceforge.net/projects/dejavu/files/dejavu/2.37/dejavu-fonts-ttf-2.37.tar.bz2"
   ]
  },
  {
   "cell_type": "code",
   "execution_count": 48,
   "metadata": {
    "executionInfo": {
     "elapsed": 1506,
     "status": "ok",
     "timestamp": 1699635009701,
     "user": {
      "displayName": "Graeme Candlish",
      "userId": "17033764210677251830"
     },
     "user_tz": 180
    },
    "id": "oK8waS5ZD2NV"
   },
   "outputs": [],
   "source": [
    "!tar -xjf dejavu-fonts-ttf-2.37.tar.bz2"
   ]
  },
  {
   "cell_type": "code",
   "execution_count": 52,
   "metadata": {
    "executionInfo": {
     "elapsed": 401,
     "status": "ok",
     "timestamp": 1699635097006,
     "user": {
      "displayName": "Graeme Candlish",
      "userId": "17033764210677251830"
     },
     "user_tz": 180
    },
    "id": "D83gHc7BJRFc"
   },
   "outputs": [],
   "source": [
    "!mkdir /usr/share/fonts/truetype/dejavu-sans/"
   ]
  },
  {
   "cell_type": "code",
   "execution_count": 53,
   "metadata": {
    "executionInfo": {
     "elapsed": 286,
     "status": "ok",
     "timestamp": 1699635115441,
     "user": {
      "displayName": "Graeme Candlish",
      "userId": "17033764210677251830"
     },
     "user_tz": 180
    },
    "id": "nX23YKy_JCGG"
   },
   "outputs": [],
   "source": [
    "!cp dejavu-fonts-ttf-2.37/ttf/DejaVuSans.ttf /usr/share/fonts/truetype/dejavu-sans/"
   ]
  },
  {
   "cell_type": "code",
   "execution_count": 49,
   "metadata": {
    "executionInfo": {
     "elapsed": 449,
     "status": "ok",
     "timestamp": 1699635138455,
     "user": {
      "displayName": "Graeme Candlish",
      "userId": "17033764210677251830"
     },
     "user_tz": 180
    },
    "id": "WArrQVZx8mEg"
   },
   "outputs": [],
   "source": [
    "from PIL import Image, ImageDraw, ImageFont\n",
    "\n",
    "def generate_equals_image():\n",
    "    # Image size\n",
    "    image_size = (28, 28)\n",
    "\n",
    "    # Create a new image with a white background\n",
    "    image = Image.new(\"L\", image_size, \"white\")\n",
    "    draw = ImageDraw.Draw(image)\n",
    "\n",
    "    # Set font and size for the equals sign\n",
    "    font_size = 20\n",
    "    #font = ImageFont.truetype(\"LiberationSerif-Regular.ttf\", font_size)\n",
    "    #font = ImageFont.load_default()\n",
    "    font = ImageFont.truetype(\"DejaVuSans.ttf\", size=font_size)\n",
    "\n",
    "    # Calculate the position to center the equals sign in the image\n",
    "    text = u\"\\u03B4\"\n",
    "    #left, top, right, bottom = draw.textbbox((0,0), text, font=font)\n",
    "\n",
    "    #x = (image_size[0] - ) // 2\n",
    "    #y = (image_size[1] - text_height) // 2\n",
    "\n",
    "    # Draw the equals sign on the image\n",
    "    draw.text((7, 3), text, font=font, fill=\"black\")\n",
    "\n",
    "    return(image)"
   ]
  },
  {
   "cell_type": "code",
   "execution_count": 50,
   "metadata": {
    "executionInfo": {
     "elapsed": 11,
     "status": "ok",
     "timestamp": 1699635140803,
     "user": {
      "displayName": "Graeme Candlish",
      "userId": "17033764210677251830"
     },
     "user_tz": 180
    },
    "id": "YpB8cqWH88ku"
   },
   "outputs": [],
   "source": [
    "img = generate_equals_image()"
   ]
  },
  {
   "cell_type": "code",
   "execution_count": 51,
   "metadata": {
    "executionInfo": {
     "elapsed": 286,
     "status": "ok",
     "timestamp": 1699635144700,
     "user": {
      "displayName": "Graeme Candlish",
      "userId": "17033764210677251830"
     },
     "user_tz": 180
    },
    "id": "kyoA0A588_D4"
   },
   "outputs": [],
   "source": [
    "import numpy as np\n",
    "pix = np.array(img)"
   ]
  },
  {
   "cell_type": "code",
   "execution_count": 52,
   "metadata": {
    "colab": {
     "base_uri": "https://localhost:8080/",
     "height": 448
    },
    "executionInfo": {
     "elapsed": 582,
     "status": "ok",
     "timestamp": 1699635146455,
     "user": {
      "displayName": "Graeme Candlish",
      "userId": "17033764210677251830"
     },
     "user_tz": 180
    },
    "id": "TVi-oVj19GZf",
    "outputId": "41c6c321-498c-4b61-8b22-d9f4c08fcb68"
   },
   "outputs": [
    {
     "data": {
      "text/plain": [
       "<matplotlib.image.AxesImage at 0x7f16f2f95290>"
      ]
     },
     "execution_count": 52,
     "metadata": {},
     "output_type": "execute_result"
    },
    {
     "data": {
      "image/png": "[encoded data removed]",
      "text/plain": [
       "<Figure size 640x480 with 1 Axes>"
      ]
     },
     "metadata": {},
     "output_type": "display_data"
    }
   ],
   "source": [
    "import matplotlib.pyplot as plt\n",
    "plt.imshow(pix,cmap='gray')"
   ]
  },
  {
   "cell_type": "code",
   "execution_count": null,
   "metadata": {
    "id": "_Ok3VgZU9Kil"
   },
   "outputs": [],
   "source": []
  }
 ],
 "metadata": {
  "colab": {
   "authorship_tag": "ABX9TyNhhS/wncaqwMjKFiv5QyvI",
   "provenance": []
  },
  "kernelspec": {
   "display_name": "Python 3 (ipykernel)",
   "language": "python",
   "name": "python3"
  },
  "language_info": {
   "codemirror_mode": {
    "name": "ipython",
    "version": 3
   },
   "file_extension": ".py",
   "mimetype": "text/x-python",
   "name": "python",
   "nbconvert_exporter": "python",
   "pygments_lexer": "ipython3",
   "version": "3.11.5"
  }
 },
 "nbformat": 4,
 "nbformat_minor": 1
}
